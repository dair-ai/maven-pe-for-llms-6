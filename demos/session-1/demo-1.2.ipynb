{
 "cells": [
  {
   "attachments": {},
   "cell_type": "markdown",
   "metadata": {},
   "source": [
    "# Session 1 | Demo 1.2 - Analyzing Product Reviews\n",
    "\n",
    "<a href=\"https://colab.research.google.com/github/dair-ai/maven-pe-for-llms-6/blob/main/notebooks/session-1/demo-1.2.ipynb\" target=\"_parent\"><img src=\"https://colab.research.google.com/assets/colab-badge.svg\" alt=\"Open In Colab\"/></a>"
   ]
  },
  {
   "cell_type": "code",
   "execution_count": 2,
   "metadata": {},
   "outputs": [],
   "source": [
    "%%capture\n",
    "# update or install the necessary libraries\n",
    "!pip install --upgrade openai\n",
    "!pip install --upgrade langchain\n",
    "!pip install --upgrade python-dotenv"
   ]
  },
  {
   "cell_type": "code",
   "execution_count": 1,
   "metadata": {},
   "outputs": [],
   "source": [
    "# load the libraries\n",
    "import openai\n",
    "import os\n",
    "import IPython\n",
    "from langchain.llms import OpenAI\n",
    "from dotenv import load_dotenv\n",
    "\n",
    "# load the environment variables\n",
    "load_dotenv()\n",
    "\n",
    "# API configuration\n",
    "openai.api_key = os.getenv(\"OPENAI_API_KEY\")\n",
    "\n",
    "# for LangChain\n",
    "os.environ[\"OPENAI_API_KEY\"] = os.getenv(\"OPENAI_API_KEY\")"
   ]
  },
  {
   "cell_type": "code",
   "execution_count": 3,
   "metadata": {},
   "outputs": [],
   "source": [
    "from langchain.chat_models import ChatOpenAI\n",
    "from langchain import PromptTemplate, LLMChain\n",
    "from langchain.prompts.chat import (\n",
    "    ChatPromptTemplate,\n",
    "    SystemMessagePromptTemplate,\n",
    "    AIMessagePromptTemplate,\n",
    "    HumanMessagePromptTemplate,\n",
    ")\n",
    "from langchain.schema import (\n",
    "    AIMessage,\n",
    "    HumanMessage,\n",
    "    SystemMessage\n",
    ")"
   ]
  },
  {
   "cell_type": "code",
   "execution_count": 4,
   "metadata": {},
   "outputs": [],
   "source": [
    "chat = ChatOpenAI(temperature=0, model_name=\"gpt-3.5-turbo\")"
   ]
  },
  {
   "cell_type": "code",
   "execution_count": 13,
   "metadata": {},
   "outputs": [
    {
     "data": {
      "text/markdown": [
       "1. The complaint is about not receiving a pair of shoes that were ordered two weeks ago and the tracking information hasn't been updated.\n",
       "2. The severity of the complaint is medium.\n",
       "3. The customer's preferred resolution is not specified.\n",
       "4. The category of the complaint is shipping."
      ],
      "text/plain": [
       "<IPython.core.display.Markdown object>"
      ]
     },
     "execution_count": 13,
     "metadata": {},
     "output_type": "execute_result"
    }
   ],
   "source": [
    "system_message = \"\"\"Your task is to analyze customer complaints and answer questions about the complaint. Output \"NA\" if you are not able to answer the question.\"\"\"\n",
    "\n",
    "prompt = \"\"\"\n",
    "Complaint: {complaint}\n",
    "Questions:\n",
    "1. What is the complaint about?\n",
    "2. What is the intensity of the complaint (low, medium or high)?\n",
    "3. What is the customer's preferred resolution (if any)?\n",
    "4. What is the category of the complaint (e.g., price, quality, shipping, etc)?\n",
    "\n",
    "Answers:\n",
    "\"\"\"\n",
    "\n",
    "messages = [\n",
    "    SystemMessage(content=system_message),\n",
    "    HumanMessage(content=prompt.format(complaint = \"I ordered a pair of shoes two weeks ago and still haven't received them. The tracking information hasn't been updated in days and I have no idea where my package is.\"))\n",
    "]\n",
    "\n",
    "IPython.display.Markdown(chat(messages).content)"
   ]
  },
  {
   "cell_type": "code",
   "execution_count": 15,
   "metadata": {},
   "outputs": [
    {
     "data": {
      "text/markdown": [
       "1. The complaint is about receiving a defective product and unresponsive customer service.\n",
       "2. The severity of the complaint is high as the customer has not received a replacement or refund even after a week.\n",
       "3. The customer's preferred resolution is not mentioned in the complaint.\n",
       "4. The category of the complaint is product quality and customer service."
      ],
      "text/plain": [
       "<IPython.core.display.Markdown object>"
      ]
     },
     "execution_count": 15,
     "metadata": {},
     "output_type": "execute_result"
    }
   ],
   "source": [
    "messages = [\n",
    "    SystemMessage(content=system_message),\n",
    "    HumanMessage(content=prompt.format(complaint = \"I received a defective product and when I reached out to customer service, they were unresponsive and unhelpful. It's been a week and I still haven't received a replacement or a refund.\"))\n",
    "]\n",
    "\n",
    "\n",
    "IPython.display.Markdown(chat(messages).content)"
   ]
  },
  {
   "attachments": {},
   "cell_type": "markdown",
   "metadata": {},
   "source": [
    "Formatting the output:"
   ]
  },
  {
   "cell_type": "code",
   "execution_count": 16,
   "metadata": {},
   "outputs": [
    {
     "data": {
      "text/markdown": [
       "[{\"question\": \"What is the complaint about?\", \"answer\": \"The complaint is about not receiving a pair of shoes that were ordered two weeks ago and the tracking information hasn't been updated in days.\"},\n",
       "{\"question\": \"What is the intensity of the complaint (low, medium or high)?\", \"answer\": \"The intensity of the complaint is medium.\"},\n",
       "{\"question\": \"What is the customer's preferred resolution (if any)?\", \"answer\": \"The customer's preferred resolution is not mentioned in the complaint.\"},\n",
       "{\"question\": \"What is the category of the complaint (e.g., price, quality, shipping, etc)?\", \"answer\": \"The category of the complaint is shipping.\"}]"
      ],
      "text/plain": [
       "<IPython.core.display.Markdown object>"
      ]
     },
     "execution_count": 16,
     "metadata": {},
     "output_type": "execute_result"
    }
   ],
   "source": [
    "system_message = \"\"\"Your task is to analyze customer complaints and answer questions about the complaint. Output \"NA\" if you are not able to answer the question.\"\"\"\n",
    "\n",
    "prompt = \"\"\"\n",
    "Complaint: {complaint}\n",
    "Questions:\n",
    "1. What is the complaint about?\n",
    "2. What is the intensity of the complaint (low, medium or high)?\n",
    "3. What is the customer's preferred resolution (if any)?\n",
    "4. What is the category of the complaint (e.g., price, quality, shipping, etc)?\n",
    "\n",
    "Answers using this format {output_format}:\n",
    "\"\"\"\n",
    "\n",
    "output_format = \"\"\"[{\"question\": \"answer\"},{\"question\": \"answer\"}] \"\"\"\n",
    "\n",
    "\n",
    "messages = [\n",
    "    SystemMessage(content=system_message),\n",
    "    HumanMessage(content=prompt.format(complaint = \"I ordered a pair of shoes two weeks ago and still haven't received them. The tracking information hasn't been updated in days and I have no idea where my package is.\", output_format = output_format))\n",
    "]\n",
    "\n",
    "\n",
    "IPython.display.Markdown(chat(messages).content)"
   ]
  },
  {
   "cell_type": "code",
   "execution_count": 17,
   "metadata": {},
   "outputs": [
    {
     "data": {
      "text/plain": [
       "[{'question': 'What is the complaint about?',\n",
       "  'answer': \"The complaint is about not receiving a pair of shoes that were ordered two weeks ago and the tracking information hasn't been updated in days.\"},\n",
       " {'question': 'What is the intensity of the complaint (low, medium or high)?',\n",
       "  'answer': 'The intensity of the complaint is medium.'},\n",
       " {'question': \"What is the customer's preferred resolution (if any)?\",\n",
       "  'answer': \"The customer's preferred resolution is not mentioned in the complaint.\"},\n",
       " {'question': 'What is the category of the complaint (e.g., price, quality, shipping, etc)?',\n",
       "  'answer': 'The category of the complaint is shipping.'}]"
      ]
     },
     "execution_count": 17,
     "metadata": {},
     "output_type": "execute_result"
    }
   ],
   "source": [
    "# load the output into json\n",
    "import json\n",
    "\n",
    "json.loads(chat(messages).content)"
   ]
  }
 ],
 "metadata": {
  "kernelspec": {
   "display_name": "langchain",
   "language": "python",
   "name": "python3"
  },
  "language_info": {
   "codemirror_mode": {
    "name": "ipython",
    "version": 3
   },
   "file_extension": ".py",
   "mimetype": "text/x-python",
   "name": "python",
   "nbconvert_exporter": "python",
   "pygments_lexer": "ipython3",
   "version": "3.9.16"
  },
  "orig_nbformat": 4
 },
 "nbformat": 4,
 "nbformat_minor": 2
}
